{
  "cells": [
    {
      "cell_type": "markdown",
      "metadata": {
        "id": "view-in-github",
        "colab_type": "text"
      },
      "source": [
        "<a href=\"https://colab.research.google.com/github/yongchun780/ai_project_vgg/blob/main/Ai_Project_updated.ipynb\" target=\"_parent\"><img src=\"https://colab.research.google.com/assets/colab-badge.svg\" alt=\"Open In Colab\"/></a>"
      ]
    },
    {
      "cell_type": "markdown",
      "metadata": {
        "id": "Oa4ZL7Hyayvp"
      },
      "source": [
        "# Automatic Defect Detection in Manufacturing Using VGG\n"
      ]
    },
    {
      "cell_type": "markdown",
      "metadata": {
        "id": "xqH3c-uaa4V2"
      },
      "source": [
        "## Step 1: Dataset Preparation\n"
      ]
    },
    {
      "cell_type": "code",
      "execution_count": 2,
      "metadata": {
        "colab": {
          "base_uri": "https://localhost:8080/"
        },
        "id": "EbajvWh0eGv8",
        "outputId": "3bc18482-5e56-445b-a016-ae46394f98a5"
      },
      "outputs": [
        {
          "output_type": "stream",
          "name": "stdout",
          "text": [
            "Mounted at /content/drive\n"
          ]
        }
      ],
      "source": [
        "from google.colab import drive\n",
        "drive.mount('/content/drive')\n"
      ]
    },
    {
      "cell_type": "code",
      "execution_count": 3,
      "metadata": {
        "colab": {
          "base_uri": "https://localhost:8080/"
        },
        "id": "uQ-Vdm-0ePXg",
        "outputId": "0db3ccbd-d720-43b3-ddf0-712ca5a35f75"
      },
      "outputs": [
        {
          "output_type": "stream",
          "name": "stdout",
          "text": [
            "best_model.h5  capsule\t\t\t  grid\t    license.txt  readme.txt  toothbrush  zipper\n",
            "bottle\t       carpet\t\t\t  hazelnut  metal_nut\t screw\t     transistor\n",
            "cable\t       defect_detection_model.h5  leather   pill\t tile\t     wood\n"
          ]
        }
      ],
      "source": [
        "import os\n",
        "os.chdir('/content/drive/MyDrive/mvtec_anomaly_detection')\n",
        "\n",
        "# Verify the directory change\n",
        "!ls\n"
      ]
    },
    {
      "cell_type": "code",
      "execution_count": 4,
      "metadata": {
        "colab": {
          "base_uri": "https://localhost:8080/"
        },
        "id": "Ja7HcJ6uarc8",
        "outputId": "9ee55b9f-3623-4f6f-a31f-087641b40bdc"
      },
      "outputs": [
        {
          "output_type": "stream",
          "name": "stdout",
          "text": [
            "Training data shape: (3629, 224, 224, 3)\n",
            "Training labels shape: (3629,)\n",
            "Test data shape: (1725, 224, 224, 3)\n",
            "Test labels shape: (1725,)\n"
          ]
        }
      ],
      "source": [
        "import os\n",
        "import cv2\n",
        "import numpy as np\n",
        "\n",
        "def load_images_from_folder(folder, label):\n",
        "    images = []\n",
        "    labels = []\n",
        "    for filename in os.listdir(folder):\n",
        "        img_path = os.path.join(folder, filename)\n",
        "        if os.path.isfile(img_path):\n",
        "            img = cv2.imread(img_path)\n",
        "            if img is not None:\n",
        "                img = cv2.resize(img, (224, 224))\n",
        "                images.append(img)\n",
        "                labels.append(label)\n",
        "    return images, labels\n",
        "\n",
        "def load_category_data(base_path, category):\n",
        "    train_good_path = os.path.join(base_path, category, 'train', 'good')\n",
        "    test_path = os.path.join(base_path, category, 'test')\n",
        "\n",
        "    # Load defect-free images from the training set\n",
        "    train_images, train_labels = load_images_from_folder(train_good_path, label=0)\n",
        "\n",
        "    # Load defective images from the test set\n",
        "    defective_images = []\n",
        "    defective_labels = []\n",
        "\n",
        "    for defect_type in os.listdir(test_path):\n",
        "        defect_type_path = os.path.join(test_path, defect_type)\n",
        "        if defect_type != 'good' and os.path.isdir(defect_type_path):\n",
        "            defect_images, defect_labels = load_images_from_folder(defect_type_path, label=1)\n",
        "            defective_images.extend(defect_images)\n",
        "            defective_labels.extend(defect_labels)\n",
        "\n",
        "    # Load defect-free images from the test set\n",
        "    test_good_path = os.path.join(test_path, 'good')\n",
        "    good_test_images, good_test_labels = load_images_from_folder(test_good_path, label=0)\n",
        "\n",
        "    # Combine test images and labels\n",
        "    test_images = defective_images + good_test_images\n",
        "    test_labels = defective_labels + good_test_labels\n",
        "\n",
        "    return train_images, train_labels, test_images, test_labels\n",
        "\n",
        "# Define base path and categories\n",
        "base_path = '/content/drive/MyDrive/mvtec_anomaly_detection'\n",
        "categories = ['bottle', 'cable', 'capsule', 'carpet', 'grid', 'hazelnut', 'leather', 'metal_nut', 'pill', 'screw', 'tile', 'toothbrush', 'transistor', 'wood', 'zipper']\n",
        "\n",
        "\n",
        "# Initialize lists to hold all data\n",
        "all_train_images = []\n",
        "all_train_labels = []\n",
        "all_test_images = []\n",
        "all_test_labels = []\n",
        "\n",
        "# Load and preprocess data for each category\n",
        "for category in categories:\n",
        "    train_images, train_labels, test_images, test_labels = load_category_data(base_path, category)\n",
        "    all_train_images.extend(train_images)\n",
        "    all_train_labels.extend(train_labels)\n",
        "    all_test_images.extend(test_images)\n",
        "    all_test_labels.extend(test_labels)\n",
        "\n",
        "# Convert to numpy arrays\n",
        "all_train_images = np.array(all_train_images)\n",
        "all_train_labels = np.array(all_train_labels)\n",
        "all_test_images = np.array(all_test_images)\n",
        "all_test_labels = np.array(all_test_labels)\n",
        "\n",
        "# Combine and shuffle data\n",
        "def shuffle_data(images, labels):\n",
        "    indices = np.arange(len(images))\n",
        "    np.random.shuffle(indices)\n",
        "    images = images[indices]\n",
        "    labels = labels[indices]\n",
        "    return images, labels\n",
        "\n",
        "all_train_images, all_train_labels = shuffle_data(all_train_images, all_train_labels)\n",
        "all_test_images, all_test_labels = shuffle_data(all_test_images, all_test_labels)\n",
        "\n",
        "print(\"Training data shape:\", all_train_images.shape)\n",
        "print(\"Training labels shape:\", all_train_labels.shape)\n",
        "print(\"Test data shape:\", all_test_images.shape)\n",
        "print(\"Test labels shape:\", all_test_labels.shape)\n"
      ]
    },
    {
      "cell_type": "markdown",
      "metadata": {
        "id": "upqBFLKwdyxk"
      },
      "source": [
        "## Step 2: Model Development with VGG16"
      ]
    },
    {
      "cell_type": "markdown",
      "metadata": {
        "id": "Ce0X2ynYkTXK"
      },
      "source": [
        "### 2.1 Load a Pre-trained VGG16 Model and Add Custom Layers"
      ]
    },
    {
      "cell_type": "code",
      "execution_count": 5,
      "metadata": {
        "colab": {
          "base_uri": "https://localhost:8080/"
        },
        "id": "czBku_LPa6-t",
        "outputId": "c26d98d7-ed36-4480-f723-c01a3baf7821"
      },
      "outputs": [
        {
          "output_type": "stream",
          "name": "stdout",
          "text": [
            "Downloading data from https://storage.googleapis.com/tensorflow/keras-applications/vgg16/vgg16_weights_tf_dim_ordering_tf_kernels_notop.h5\n",
            "58889256/58889256 [==============================] - 3s 0us/step\n",
            "Model: \"model\"\n",
            "_________________________________________________________________\n",
            " Layer (type)                Output Shape              Param #   \n",
            "=================================================================\n",
            " input_1 (InputLayer)        [(None, 224, 224, 3)]     0         \n",
            "                                                                 \n",
            " block1_conv1 (Conv2D)       (None, 224, 224, 64)      1792      \n",
            "                                                                 \n",
            " block1_conv2 (Conv2D)       (None, 224, 224, 64)      36928     \n",
            "                                                                 \n",
            " block1_pool (MaxPooling2D)  (None, 112, 112, 64)      0         \n",
            "                                                                 \n",
            " block2_conv1 (Conv2D)       (None, 112, 112, 128)     73856     \n",
            "                                                                 \n",
            " block2_conv2 (Conv2D)       (None, 112, 112, 128)     147584    \n",
            "                                                                 \n",
            " block2_pool (MaxPooling2D)  (None, 56, 56, 128)       0         \n",
            "                                                                 \n",
            " block3_conv1 (Conv2D)       (None, 56, 56, 256)       295168    \n",
            "                                                                 \n",
            " block3_conv2 (Conv2D)       (None, 56, 56, 256)       590080    \n",
            "                                                                 \n",
            " block3_conv3 (Conv2D)       (None, 56, 56, 256)       590080    \n",
            "                                                                 \n",
            " block3_pool (MaxPooling2D)  (None, 28, 28, 256)       0         \n",
            "                                                                 \n",
            " block4_conv1 (Conv2D)       (None, 28, 28, 512)       1180160   \n",
            "                                                                 \n",
            " block4_conv2 (Conv2D)       (None, 28, 28, 512)       2359808   \n",
            "                                                                 \n",
            " block4_conv3 (Conv2D)       (None, 28, 28, 512)       2359808   \n",
            "                                                                 \n",
            " block4_pool (MaxPooling2D)  (None, 14, 14, 512)       0         \n",
            "                                                                 \n",
            " block5_conv1 (Conv2D)       (None, 14, 14, 512)       2359808   \n",
            "                                                                 \n",
            " block5_conv2 (Conv2D)       (None, 14, 14, 512)       2359808   \n",
            "                                                                 \n",
            " block5_conv3 (Conv2D)       (None, 14, 14, 512)       2359808   \n",
            "                                                                 \n",
            " block5_pool (MaxPooling2D)  (None, 7, 7, 512)         0         \n",
            "                                                                 \n",
            " flatten (Flatten)           (None, 25088)             0         \n",
            "                                                                 \n",
            " dense (Dense)               (None, 1024)              25691136  \n",
            "                                                                 \n",
            " dropout (Dropout)           (None, 1024)              0         \n",
            "                                                                 \n",
            " dense_1 (Dense)             (None, 1)                 1025      \n",
            "                                                                 \n",
            "=================================================================\n",
            "Total params: 40406849 (154.14 MB)\n",
            "Trainable params: 25692161 (98.01 MB)\n",
            "Non-trainable params: 14714688 (56.13 MB)\n",
            "_________________________________________________________________\n"
          ]
        }
      ],
      "source": [
        "from tensorflow.keras.applications import VGG16\n",
        "from tensorflow.keras.models import Model\n",
        "from tensorflow.keras.layers import Dense, Flatten, Dropout\n",
        "from tensorflow.keras.optimizers import Adam\n",
        "\n",
        "# Load the VGG16 model, excluding the top layers\n",
        "base_model = VGG16(weights='imagenet', include_top=False, input_shape=(224, 224, 3))\n",
        "\n",
        "# Add custom layers on top of the base model\n",
        "x = base_model.output\n",
        "x = Flatten()(x)\n",
        "x = Dense(1024, activation='relu')(x)\n",
        "x = Dropout(0.5)(x)\n",
        "predictions = Dense(1, activation='sigmoid')(x)\n",
        "\n",
        "# Create the full model\n",
        "model = Model(inputs=base_model.input, outputs=predictions)\n",
        "\n",
        "# Freeze the layers of the base model to retain pre-trained features\n",
        "for layer in base_model.layers:\n",
        "    layer.trainable = False\n",
        "\n",
        "# Compile the model\n",
        "model.compile(optimizer=Adam(learning_rate=0.0001), loss='binary_crossentropy', metrics=['accuracy'])\n",
        "\n",
        "model.summary()\n"
      ]
    },
    {
      "cell_type": "markdown",
      "metadata": {
        "id": "rMrARy5mkxOD"
      },
      "source": [
        "### 2.2 Train the Model"
      ]
    },
    {
      "cell_type": "code",
      "execution_count": 6,
      "metadata": {
        "colab": {
          "base_uri": "https://localhost:8080/"
        },
        "id": "ajOSmq8_bVa9",
        "outputId": "e3c7d679-ae2a-4090-b70b-30003ed8a433"
      },
      "outputs": [
        {
          "output_type": "stream",
          "name": "stdout",
          "text": [
            "Epoch 1/50\n",
            "182/182 [==============================] - ETA: 0s - loss: 0.0040 - accuracy: 0.9983 "
          ]
        },
        {
          "output_type": "stream",
          "name": "stderr",
          "text": [
            "/usr/local/lib/python3.10/dist-packages/keras/src/engine/training.py:3103: UserWarning: You are saving your model as an HDF5 file via `model.save()`. This file format is considered legacy. We recommend using instead the native Keras format, e.g. `model.save('my_model.keras')`.\n",
            "  saving_api.save_model(\n"
          ]
        },
        {
          "output_type": "stream",
          "name": "stdout",
          "text": [
            "\b\b\b\b\b\b\b\b\b\b\b\b\b\b\b\b\b\b\b\b\b\b\b\b\b\b\b\b\b\b\b\b\b\b\b\b\b\b\b\b\b\b\b\b\b\b\b\b\b\b\b\b\b\b\b\b\b\b\b\b\b\b\b\b\b\b\b\b\b\b\b\b\b\b\b\b\b\b\b\b\b\b\b\b\r182/182 [==============================] - 2437s 13s/step - loss: 0.0040 - accuracy: 0.9983 - val_loss: 3.7610e-31 - val_accuracy: 1.0000\n",
            "Epoch 2/50\n",
            "182/182 [==============================] - 2422s 13s/step - loss: 2.5132e-28 - accuracy: 1.0000 - val_loss: 3.7610e-31 - val_accuracy: 1.0000\n",
            "Epoch 3/50\n",
            "182/182 [==============================] - 2398s 13s/step - loss: 8.3310e-28 - accuracy: 1.0000 - val_loss: 3.7610e-31 - val_accuracy: 1.0000\n",
            "Epoch 4/50\n",
            "182/182 [==============================] - 2398s 13s/step - loss: 1.3000e-27 - accuracy: 1.0000 - val_loss: 3.7610e-31 - val_accuracy: 1.0000\n",
            "Epoch 5/50\n",
            "182/182 [==============================] - 2347s 13s/step - loss: 3.3677e-27 - accuracy: 1.0000 - val_loss: 3.7610e-31 - val_accuracy: 1.0000\n",
            "Epoch 6/50\n",
            "182/182 [==============================] - 2394s 13s/step - loss: 8.3972e-28 - accuracy: 1.0000 - val_loss: 3.7610e-31 - val_accuracy: 1.0000\n"
          ]
        }
      ],
      "source": [
        "from tensorflow.keras.callbacks import ModelCheckpoint, EarlyStopping\n",
        "\n",
        "# Callbacks for early stopping and saving the best model\n",
        "callbacks = [\n",
        "    ModelCheckpoint('best_model.h5', monitor='val_loss', save_best_only=True, mode='min'),\n",
        "    EarlyStopping(monitor='val_loss', patience=5, mode='min')\n",
        "]\n",
        "\n",
        "# Train the model\n",
        "history = model.fit(\n",
        "    all_train_images, all_train_labels,\n",
        "    epochs=50,\n",
        "    validation_split=0.2,\n",
        "    batch_size=16,  # Adjust batch size based on memory constraints\n",
        "    callbacks=callbacks\n",
        ")\n"
      ]
    },
    {
      "cell_type": "markdown",
      "metadata": {
        "id": "xpY_Z40LnX7j"
      },
      "source": [
        "### 2.3 Evaluate the Model"
      ]
    },
    {
      "cell_type": "code",
      "execution_count": 7,
      "metadata": {
        "colab": {
          "base_uri": "https://localhost:8080/"
        },
        "id": "TwN9mz7-k0yI",
        "outputId": "ad966e34-e240-4f35-b82d-4eb4fc2df3c5"
      },
      "outputs": [
        {
          "output_type": "stream",
          "name": "stdout",
          "text": [
            "54/54 [==============================] - 1086s 20s/step - loss: 139.3522 - accuracy: 0.2707\n",
            "Test Accuracy: 27.07%\n"
          ]
        }
      ],
      "source": [
        "# Load the best model\n",
        "model.load_weights('best_model.h5')\n",
        "\n",
        "# Evaluate the model on the test set\n",
        "test_loss, test_accuracy = model.evaluate(all_test_images, all_test_labels)\n",
        "print(f'Test Accuracy: {test_accuracy * 100:.2f}%')\n"
      ]
    },
    {
      "cell_type": "markdown",
      "metadata": {
        "id": "7JwBUrUkuGIb"
      },
      "source": [
        "## Step 3: Model Evaluation and Analysis"
      ]
    },
    {
      "cell_type": "code",
      "execution_count": 8,
      "metadata": {
        "colab": {
          "base_uri": "https://localhost:8080/",
          "height": 564
        },
        "id": "ir1sIHwRrUvP",
        "outputId": "c03f07ce-e7ca-4e6c-b078-688a90a4ee9b"
      },
      "outputs": [
        {
          "output_type": "display_data",
          "data": {
            "text/plain": [
              "<Figure size 1200x600 with 2 Axes>"
            ],
            "image/png": "[encoded data removed]"
          },
          "metadata": {}
        }
      ],
      "source": [
        "import matplotlib.pyplot as plt\n",
        "\n",
        "# Plot training & validation accuracy values\n",
        "plt.figure(figsize=(12, 6))\n",
        "plt.subplot(1, 2, 1)\n",
        "plt.plot(history.history['accuracy'])\n",
        "plt.plot(history.history['val_accuracy'])\n",
        "plt.title('Model accuracy')\n",
        "plt.ylabel('Accuracy')\n",
        "plt.xlabel('Epoch')\n",
        "plt.legend(['Train', 'Validation'], loc='upper left')\n",
        "\n",
        "# Plot training & validation loss values\n",
        "plt.subplot(1, 2, 2)\n",
        "plt.plot(history.history['loss'])\n",
        "plt.plot(history.history['val_loss'])\n",
        "plt.title('Model loss')\n",
        "plt.ylabel('Loss')\n",
        "plt.xlabel('Epoch')\n",
        "plt.legend(['Train', 'Validation'], loc='upper left')\n",
        "plt.show()\n"
      ]
    },
    {
      "cell_type": "markdown",
      "metadata": {
        "id": "qt39R3v9uNrW"
      },
      "source": [
        "### Step 4: Save and Deploy the Model"
      ]
    },
    {
      "cell_type": "code",
      "execution_count": 9,
      "metadata": {
        "id": "9808o6JouDFq"
      },
      "outputs": [],
      "source": [
        "model.save('defect_detection_model.h5')\n"
      ]
    },
    {
      "cell_type": "markdown",
      "source": [
        "## Step 5: Model Test"
      ],
      "metadata": {
        "id": "lb6QxTZfRr9n"
      }
    },
    {
      "cell_type": "markdown",
      "source": [
        "### 5.1 Load Model"
      ],
      "metadata": {
        "id": "sB4G8Jw4SdjD"
      }
    },
    {
      "cell_type": "code",
      "execution_count": 4,
      "metadata": {
        "id": "vI2qnAEYvTrU"
      },
      "outputs": [],
      "source": [
        "import tensorflow as tf\n",
        "from tensorflow.keras.models import load_model\n",
        "import numpy as np\n",
        "import cv2\n",
        "\n",
        "# Load the saved model\n",
        "model = load_model('/content/drive/MyDrive/mvtec_anomaly_detection/defect_detection_model.h5')"
      ]
    },
    {
      "cell_type": "markdown",
      "source": [
        "### 5.2 Preprocess New Images"
      ],
      "metadata": {
        "id": "qQy9LQtuSg_V"
      }
    },
    {
      "cell_type": "code",
      "source": [
        "def preprocess_image(image_path):\n",
        "    img = cv2.imread(image_path)\n",
        "    img = cv2.resize(img, (224, 224))  # Resize to match the input size of the model\n",
        "    img = img.astype('float32') / 255.0  # Normalize the pixel values\n",
        "    img = np.expand_dims(img, axis=0)  # Expand dimensions to match the input shape for the model\n",
        "    return img\n"
      ],
      "metadata": {
        "id": "cm1cCymdSBgl"
      },
      "execution_count": 5,
      "outputs": []
    },
    {
      "cell_type": "markdown",
      "source": [
        "### 5.3 Make Predictions"
      ],
      "metadata": {
        "id": "74hzGu-jTWQG"
      }
    },
    {
      "cell_type": "code",
      "source": [
        "# Path to the new image\n",
        "new_image_path = '/content/drive/MyDrive/test_images/test_bottle3.jpg'\n",
        "\n",
        "# Preprocess the image\n",
        "preprocessed_image = preprocess_image(new_image_path)\n",
        "\n",
        "# Make a prediction\n",
        "prediction = model.predict(preprocessed_image)\n",
        "print(prediction)\n",
        "\n",
        "# Interpret the prediction\n",
        "if prediction < 0.5:\n",
        "    print(\"The component is: Good\")\n",
        "else:\n",
        "    print(\"The component is: Defective\")\n"
      ],
      "metadata": {
        "colab": {
          "base_uri": "https://localhost:8080/"
        },
        "id": "gxKTOyh_TTYd",
        "outputId": "fdb0a996-7a94-4842-8a0a-8e59b7759f17"
      },
      "execution_count": 17,
      "outputs": [
        {
          "output_type": "stream",
          "name": "stdout",
          "text": [
            "1/1 [==============================] - 1s 745ms/step\n",
            "[[1.11937894e-07]]\n",
            "The component is: Good\n"
          ]
        }
      ]
    },
    {
      "cell_type": "code",
      "source": [],
      "metadata": {
        "id": "Mry9UAmOTi42"
      },
      "execution_count": null,
      "outputs": []
    }
  ],
  "metadata": {
    "colab": {
      "provenance": [],
      "authorship_tag": "ABX9TyNgbOTXPKJJM7qKYMyPlYsW",
      "include_colab_link": true
    },
    "kernelspec": {
      "display_name": "Python 3",
      "name": "python3"
    },
    "language_info": {
      "name": "python"
    }
  },
  "nbformat": 4,
  "nbformat_minor": 0
}
